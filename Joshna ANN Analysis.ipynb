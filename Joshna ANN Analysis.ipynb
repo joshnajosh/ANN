{
 "cells": [
  {
   "cell_type": "code",
   "execution_count": 1,
   "id": "4576f9a4",
   "metadata": {},
   "outputs": [],
   "source": [
    "#Package import\n",
    "import numpy as np\n",
    "import pandas as pd\n",
    "import tensorflow as tf\n",
    "import matplotlib.pyplot as plt\n",
    "from tensorflow import keras\n",
    "from sklearn.model_selection import train_test_split"
   ]
  },
  {
   "cell_type": "code",
   "execution_count": 29,
   "id": "c7369e9c",
   "metadata": {},
   "outputs": [
    {
     "data": {
      "text/html": [
       "<div>\n",
       "<style scoped>\n",
       "    .dataframe tbody tr th:only-of-type {\n",
       "        vertical-align: middle;\n",
       "    }\n",
       "\n",
       "    .dataframe tbody tr th {\n",
       "        vertical-align: top;\n",
       "    }\n",
       "\n",
       "    .dataframe thead th {\n",
       "        text-align: right;\n",
       "    }\n",
       "</style>\n",
       "<table border=\"1\" class=\"dataframe\">\n",
       "  <thead>\n",
       "    <tr style=\"text-align: right;\">\n",
       "      <th></th>\n",
       "      <th>Subject_ID</th>\n",
       "      <th>MRI_ID</th>\n",
       "      <th>Group</th>\n",
       "      <th>Visit</th>\n",
       "      <th>MR_Delay</th>\n",
       "      <th>M_F</th>\n",
       "      <th>Hand</th>\n",
       "      <th>Age</th>\n",
       "      <th>EDUC</th>\n",
       "      <th>SES</th>\n",
       "      <th>MMSE</th>\n",
       "      <th>CDR</th>\n",
       "      <th>eTIV</th>\n",
       "      <th>nWBV</th>\n",
       "      <th>ASF</th>\n",
       "    </tr>\n",
       "  </thead>\n",
       "  <tbody>\n",
       "    <tr>\n",
       "      <th>0</th>\n",
       "      <td>OAS2_0001</td>\n",
       "      <td>OAS2_0001_MR1</td>\n",
       "      <td>Nondemented</td>\n",
       "      <td>1</td>\n",
       "      <td>0</td>\n",
       "      <td>M</td>\n",
       "      <td>R</td>\n",
       "      <td>87</td>\n",
       "      <td>14</td>\n",
       "      <td>2.0</td>\n",
       "      <td>27.0</td>\n",
       "      <td>0.0</td>\n",
       "      <td>1987</td>\n",
       "      <td>0.696</td>\n",
       "      <td>0.883</td>\n",
       "    </tr>\n",
       "    <tr>\n",
       "      <th>1</th>\n",
       "      <td>OAS2_0001</td>\n",
       "      <td>OAS2_0001_MR2</td>\n",
       "      <td>Nondemented</td>\n",
       "      <td>2</td>\n",
       "      <td>457</td>\n",
       "      <td>M</td>\n",
       "      <td>R</td>\n",
       "      <td>88</td>\n",
       "      <td>14</td>\n",
       "      <td>2.0</td>\n",
       "      <td>30.0</td>\n",
       "      <td>0.0</td>\n",
       "      <td>2004</td>\n",
       "      <td>0.681</td>\n",
       "      <td>0.876</td>\n",
       "    </tr>\n",
       "    <tr>\n",
       "      <th>2</th>\n",
       "      <td>OAS2_0002</td>\n",
       "      <td>OAS2_0002_MR1</td>\n",
       "      <td>Demented</td>\n",
       "      <td>1</td>\n",
       "      <td>0</td>\n",
       "      <td>M</td>\n",
       "      <td>R</td>\n",
       "      <td>75</td>\n",
       "      <td>12</td>\n",
       "      <td>NaN</td>\n",
       "      <td>23.0</td>\n",
       "      <td>0.5</td>\n",
       "      <td>1678</td>\n",
       "      <td>0.736</td>\n",
       "      <td>1.046</td>\n",
       "    </tr>\n",
       "    <tr>\n",
       "      <th>3</th>\n",
       "      <td>OAS2_0002</td>\n",
       "      <td>OAS2_0002_MR2</td>\n",
       "      <td>Demented</td>\n",
       "      <td>2</td>\n",
       "      <td>560</td>\n",
       "      <td>M</td>\n",
       "      <td>R</td>\n",
       "      <td>76</td>\n",
       "      <td>12</td>\n",
       "      <td>NaN</td>\n",
       "      <td>28.0</td>\n",
       "      <td>0.5</td>\n",
       "      <td>1738</td>\n",
       "      <td>0.713</td>\n",
       "      <td>1.010</td>\n",
       "    </tr>\n",
       "    <tr>\n",
       "      <th>4</th>\n",
       "      <td>OAS2_0002</td>\n",
       "      <td>OAS2_0002_MR3</td>\n",
       "      <td>Demented</td>\n",
       "      <td>3</td>\n",
       "      <td>1895</td>\n",
       "      <td>M</td>\n",
       "      <td>R</td>\n",
       "      <td>80</td>\n",
       "      <td>12</td>\n",
       "      <td>NaN</td>\n",
       "      <td>22.0</td>\n",
       "      <td>0.5</td>\n",
       "      <td>1698</td>\n",
       "      <td>0.701</td>\n",
       "      <td>1.034</td>\n",
       "    </tr>\n",
       "    <tr>\n",
       "      <th>5</th>\n",
       "      <td>OAS2_0004</td>\n",
       "      <td>OAS2_0004_MR1</td>\n",
       "      <td>Nondemented</td>\n",
       "      <td>1</td>\n",
       "      <td>0</td>\n",
       "      <td>F</td>\n",
       "      <td>R</td>\n",
       "      <td>88</td>\n",
       "      <td>18</td>\n",
       "      <td>3.0</td>\n",
       "      <td>28.0</td>\n",
       "      <td>0.0</td>\n",
       "      <td>1215</td>\n",
       "      <td>0.710</td>\n",
       "      <td>1.444</td>\n",
       "    </tr>\n",
       "    <tr>\n",
       "      <th>6</th>\n",
       "      <td>OAS2_0004</td>\n",
       "      <td>OAS2_0004_MR2</td>\n",
       "      <td>Nondemented</td>\n",
       "      <td>2</td>\n",
       "      <td>538</td>\n",
       "      <td>F</td>\n",
       "      <td>R</td>\n",
       "      <td>90</td>\n",
       "      <td>18</td>\n",
       "      <td>3.0</td>\n",
       "      <td>27.0</td>\n",
       "      <td>0.0</td>\n",
       "      <td>1200</td>\n",
       "      <td>0.718</td>\n",
       "      <td>1.462</td>\n",
       "    </tr>\n",
       "  </tbody>\n",
       "</table>\n",
       "</div>"
      ],
      "text/plain": [
       "  Subject_ID         MRI_ID        Group  Visit  MR_Delay M_F Hand  Age  EDUC  \\\n",
       "0  OAS2_0001  OAS2_0001_MR1  Nondemented      1         0   M    R   87    14   \n",
       "1  OAS2_0001  OAS2_0001_MR2  Nondemented      2       457   M    R   88    14   \n",
       "2  OAS2_0002  OAS2_0002_MR1     Demented      1         0   M    R   75    12   \n",
       "3  OAS2_0002  OAS2_0002_MR2     Demented      2       560   M    R   76    12   \n",
       "4  OAS2_0002  OAS2_0002_MR3     Demented      3      1895   M    R   80    12   \n",
       "5  OAS2_0004  OAS2_0004_MR1  Nondemented      1         0   F    R   88    18   \n",
       "6  OAS2_0004  OAS2_0004_MR2  Nondemented      2       538   F    R   90    18   \n",
       "\n",
       "   SES  MMSE  CDR  eTIV   nWBV    ASF  \n",
       "0  2.0  27.0  0.0  1987  0.696  0.883  \n",
       "1  2.0  30.0  0.0  2004  0.681  0.876  \n",
       "2  NaN  23.0  0.5  1678  0.736  1.046  \n",
       "3  NaN  28.0  0.5  1738  0.713  1.010  \n",
       "4  NaN  22.0  0.5  1698  0.701  1.034  \n",
       "5  3.0  28.0  0.0  1215  0.710  1.444  \n",
       "6  3.0  27.0  0.0  1200  0.718  1.462  "
      ]
     },
     "execution_count": 29,
     "metadata": {},
     "output_type": "execute_result"
    }
   ],
   "source": [
    "#Data values load\n",
    "dementia_data = pd.read_csv(r\"C:\\\\Joshna\\dementia_dataset.csv\")\n",
    "dementia_data.head(7)"
   ]
  },
  {
   "cell_type": "code",
   "execution_count": 51,
   "id": "65124fa6",
   "metadata": {},
   "outputs": [
    {
     "name": "stdout",
     "output_type": "stream",
     "text": [
      "<class 'pandas.core.frame.DataFrame'>\n",
      "RangeIndex: 373 entries, 0 to 372\n",
      "Data columns (total 16 columns):\n",
      " #   Column      Non-Null Count  Dtype  \n",
      "---  ------      --------------  -----  \n",
      " 0   Subject_ID  373 non-null    object \n",
      " 1   MRI_ID      373 non-null    object \n",
      " 2   Group       373 non-null    object \n",
      " 3   Visit       373 non-null    int64  \n",
      " 4   MR_Delay    373 non-null    int64  \n",
      " 5   M_F         373 non-null    object \n",
      " 6   Hand        373 non-null    object \n",
      " 7   Age         373 non-null    int64  \n",
      " 8   EDUC        373 non-null    int64  \n",
      " 9   SES         373 non-null    float64\n",
      " 10  MMSE        373 non-null    float64\n",
      " 11  CDR         373 non-null    float64\n",
      " 12  eTIV        373 non-null    int64  \n",
      " 13  nWBV        373 non-null    float64\n",
      " 14  ASF         373 non-null    float64\n",
      " 15  type        373 non-null    int64  \n",
      "dtypes: float64(5), int64(6), object(5)\n",
      "memory usage: 46.8+ KB\n"
     ]
    }
   ],
   "source": [
    "#Information about the dataset\n",
    "dementia_data.info()"
   ]
  },
  {
   "cell_type": "code",
   "execution_count": 30,
   "id": "6d5015e3",
   "metadata": {},
   "outputs": [],
   "source": [
    "#Fill null values with 0\n",
    "dementia_data=dementia_data.fillna(0)"
   ]
  },
  {
   "cell_type": "code",
   "execution_count": 31,
   "id": "0571e690",
   "metadata": {},
   "outputs": [],
   "source": [
    "#Changing the dependent categorical variable to a numeric variable \n",
    "def dep_trans(form):\n",
    "    if form=='Nondemented':\n",
    "        return 0\n",
    "    elif form=='Demented':\n",
    "        return 1\n",
    "    elif form=='Converted':\n",
    "        return 2"
   ]
  },
  {
   "cell_type": "code",
   "execution_count": 32,
   "id": "110037c0",
   "metadata": {},
   "outputs": [],
   "source": [
    "#Creating a new dependent variable of numeric type\n",
    "dementia_data['type'] = dementia_data['Group'].apply(dep_trans)"
   ]
  },
  {
   "cell_type": "code",
   "execution_count": 33,
   "id": "8fdd4f0b",
   "metadata": {},
   "outputs": [],
   "source": [
    "#Creating feature var and target var\n",
    "feat = dementia_data.drop(['Subject_ID','MRI_ID','M_F','Hand','Group','type'],axis=1)\n",
    "targ = dementia_data.loc[:,'type']"
   ]
  },
  {
   "cell_type": "code",
   "execution_count": 34,
   "id": "bbc98398",
   "metadata": {},
   "outputs": [
    {
     "data": {
      "text/html": [
       "<div>\n",
       "<style scoped>\n",
       "    .dataframe tbody tr th:only-of-type {\n",
       "        vertical-align: middle;\n",
       "    }\n",
       "\n",
       "    .dataframe tbody tr th {\n",
       "        vertical-align: top;\n",
       "    }\n",
       "\n",
       "    .dataframe thead th {\n",
       "        text-align: right;\n",
       "    }\n",
       "</style>\n",
       "<table border=\"1\" class=\"dataframe\">\n",
       "  <thead>\n",
       "    <tr style=\"text-align: right;\">\n",
       "      <th></th>\n",
       "      <th>Visit</th>\n",
       "      <th>MR_Delay</th>\n",
       "      <th>Age</th>\n",
       "      <th>EDUC</th>\n",
       "      <th>SES</th>\n",
       "      <th>MMSE</th>\n",
       "      <th>CDR</th>\n",
       "      <th>eTIV</th>\n",
       "      <th>nWBV</th>\n",
       "      <th>ASF</th>\n",
       "    </tr>\n",
       "  </thead>\n",
       "  <tbody>\n",
       "    <tr>\n",
       "      <th>0</th>\n",
       "      <td>1</td>\n",
       "      <td>0</td>\n",
       "      <td>87</td>\n",
       "      <td>14</td>\n",
       "      <td>2.0</td>\n",
       "      <td>27.0</td>\n",
       "      <td>0.0</td>\n",
       "      <td>1987</td>\n",
       "      <td>0.696</td>\n",
       "      <td>0.883</td>\n",
       "    </tr>\n",
       "    <tr>\n",
       "      <th>1</th>\n",
       "      <td>2</td>\n",
       "      <td>457</td>\n",
       "      <td>88</td>\n",
       "      <td>14</td>\n",
       "      <td>2.0</td>\n",
       "      <td>30.0</td>\n",
       "      <td>0.0</td>\n",
       "      <td>2004</td>\n",
       "      <td>0.681</td>\n",
       "      <td>0.876</td>\n",
       "    </tr>\n",
       "    <tr>\n",
       "      <th>2</th>\n",
       "      <td>1</td>\n",
       "      <td>0</td>\n",
       "      <td>75</td>\n",
       "      <td>12</td>\n",
       "      <td>0.0</td>\n",
       "      <td>23.0</td>\n",
       "      <td>0.5</td>\n",
       "      <td>1678</td>\n",
       "      <td>0.736</td>\n",
       "      <td>1.046</td>\n",
       "    </tr>\n",
       "    <tr>\n",
       "      <th>3</th>\n",
       "      <td>2</td>\n",
       "      <td>560</td>\n",
       "      <td>76</td>\n",
       "      <td>12</td>\n",
       "      <td>0.0</td>\n",
       "      <td>28.0</td>\n",
       "      <td>0.5</td>\n",
       "      <td>1738</td>\n",
       "      <td>0.713</td>\n",
       "      <td>1.010</td>\n",
       "    </tr>\n",
       "    <tr>\n",
       "      <th>4</th>\n",
       "      <td>3</td>\n",
       "      <td>1895</td>\n",
       "      <td>80</td>\n",
       "      <td>12</td>\n",
       "      <td>0.0</td>\n",
       "      <td>22.0</td>\n",
       "      <td>0.5</td>\n",
       "      <td>1698</td>\n",
       "      <td>0.701</td>\n",
       "      <td>1.034</td>\n",
       "    </tr>\n",
       "    <tr>\n",
       "      <th>...</th>\n",
       "      <td>...</td>\n",
       "      <td>...</td>\n",
       "      <td>...</td>\n",
       "      <td>...</td>\n",
       "      <td>...</td>\n",
       "      <td>...</td>\n",
       "      <td>...</td>\n",
       "      <td>...</td>\n",
       "      <td>...</td>\n",
       "      <td>...</td>\n",
       "    </tr>\n",
       "    <tr>\n",
       "      <th>368</th>\n",
       "      <td>2</td>\n",
       "      <td>842</td>\n",
       "      <td>82</td>\n",
       "      <td>16</td>\n",
       "      <td>1.0</td>\n",
       "      <td>28.0</td>\n",
       "      <td>0.5</td>\n",
       "      <td>1693</td>\n",
       "      <td>0.694</td>\n",
       "      <td>1.037</td>\n",
       "    </tr>\n",
       "    <tr>\n",
       "      <th>369</th>\n",
       "      <td>3</td>\n",
       "      <td>2297</td>\n",
       "      <td>86</td>\n",
       "      <td>16</td>\n",
       "      <td>1.0</td>\n",
       "      <td>26.0</td>\n",
       "      <td>0.5</td>\n",
       "      <td>1688</td>\n",
       "      <td>0.675</td>\n",
       "      <td>1.040</td>\n",
       "    </tr>\n",
       "    <tr>\n",
       "      <th>370</th>\n",
       "      <td>1</td>\n",
       "      <td>0</td>\n",
       "      <td>61</td>\n",
       "      <td>13</td>\n",
       "      <td>2.0</td>\n",
       "      <td>30.0</td>\n",
       "      <td>0.0</td>\n",
       "      <td>1319</td>\n",
       "      <td>0.801</td>\n",
       "      <td>1.331</td>\n",
       "    </tr>\n",
       "    <tr>\n",
       "      <th>371</th>\n",
       "      <td>2</td>\n",
       "      <td>763</td>\n",
       "      <td>63</td>\n",
       "      <td>13</td>\n",
       "      <td>2.0</td>\n",
       "      <td>30.0</td>\n",
       "      <td>0.0</td>\n",
       "      <td>1327</td>\n",
       "      <td>0.796</td>\n",
       "      <td>1.323</td>\n",
       "    </tr>\n",
       "    <tr>\n",
       "      <th>372</th>\n",
       "      <td>3</td>\n",
       "      <td>1608</td>\n",
       "      <td>65</td>\n",
       "      <td>13</td>\n",
       "      <td>2.0</td>\n",
       "      <td>30.0</td>\n",
       "      <td>0.0</td>\n",
       "      <td>1333</td>\n",
       "      <td>0.801</td>\n",
       "      <td>1.317</td>\n",
       "    </tr>\n",
       "  </tbody>\n",
       "</table>\n",
       "<p>373 rows × 10 columns</p>\n",
       "</div>"
      ],
      "text/plain": [
       "     Visit  MR_Delay  Age  EDUC  SES  MMSE  CDR  eTIV   nWBV    ASF\n",
       "0        1         0   87    14  2.0  27.0  0.0  1987  0.696  0.883\n",
       "1        2       457   88    14  2.0  30.0  0.0  2004  0.681  0.876\n",
       "2        1         0   75    12  0.0  23.0  0.5  1678  0.736  1.046\n",
       "3        2       560   76    12  0.0  28.0  0.5  1738  0.713  1.010\n",
       "4        3      1895   80    12  0.0  22.0  0.5  1698  0.701  1.034\n",
       "..     ...       ...  ...   ...  ...   ...  ...   ...    ...    ...\n",
       "368      2       842   82    16  1.0  28.0  0.5  1693  0.694  1.037\n",
       "369      3      2297   86    16  1.0  26.0  0.5  1688  0.675  1.040\n",
       "370      1         0   61    13  2.0  30.0  0.0  1319  0.801  1.331\n",
       "371      2       763   63    13  2.0  30.0  0.0  1327  0.796  1.323\n",
       "372      3      1608   65    13  2.0  30.0  0.0  1333  0.801  1.317\n",
       "\n",
       "[373 rows x 10 columns]"
      ]
     },
     "execution_count": 34,
     "metadata": {},
     "output_type": "execute_result"
    }
   ],
   "source": [
    "feat"
   ]
  },
  {
   "cell_type": "code",
   "execution_count": 35,
   "id": "badeb563",
   "metadata": {},
   "outputs": [],
   "source": [
    "#Dataset division\n",
    "X_train, X_test, Y_train, Y_test = train_test_split(feat,targ,test_size=0.20)"
   ]
  },
  {
   "cell_type": "code",
   "execution_count": 36,
   "id": "1657b372",
   "metadata": {},
   "outputs": [],
   "source": [
    "#Tensorflow form of variables\n",
    "indepndnt = [tf.feature_column.numeric_column('Visit'),\n",
    "            tf.feature_column.numeric_column('MR_Delay'),\n",
    "            tf.feature_column.numeric_column('Age'),\n",
    "            tf.feature_column.numeric_column('EDUC'),\n",
    "            tf.feature_column.numeric_column('SES'),\n",
    "            tf.feature_column.numeric_column('MMSE'),\n",
    "            tf.feature_column.numeric_column('CDR'),\n",
    "            tf.feature_column.numeric_column('eTIV'),\n",
    "            tf.feature_column.numeric_column('nWBV'),\n",
    "            tf.feature_column.numeric_column('ASF')           \n",
    "           ]"
   ]
  },
  {
   "cell_type": "code",
   "execution_count": 37,
   "id": "ec1c9183",
   "metadata": {},
   "outputs": [],
   "source": [
    "#Model parameter define step\n",
    "def parms_model(epochs,batches,shuffle):\n",
    "    return tf.compat.v1.estimator.inputs.pandas_input_fn(\n",
    "        x=X_train,\n",
    "        y=Y_train,\n",
    "        batch_size=batches,\n",
    "        num_epochs=epochs,\n",
    "       shuffle=shuffle\n",
    "    )"
   ]
  },
  {
   "cell_type": "code",
   "execution_count": 38,
   "id": "5eed6346",
   "metadata": {},
   "outputs": [],
   "source": [
    "#Model validation step\n",
    "def valid_model(epochs,batches,shuffle):\n",
    "    return tf.compat.v1.estimator.inputs.pandas_input_fn(\n",
    "        x=X_test,\n",
    "        y=Y_test,\n",
    "        batch_size=batches,\n",
    "        num_epochs=epochs,\n",
    "        shuffle=shuffle\n",
    "    )"
   ]
  },
  {
   "cell_type": "code",
   "execution_count": 39,
   "id": "9d40e635",
   "metadata": {},
   "outputs": [
    {
     "name": "stdout",
     "output_type": "stream",
     "text": [
      "INFO:tensorflow:Using default config.\n",
      "WARNING:tensorflow:Using temporary folder as model directory: C:\\Users\\joshna\\AppData\\Local\\Temp\\tmpxzh3zgjp\n",
      "INFO:tensorflow:Using config: {'_model_dir': 'C:\\\\Users\\\\joshna\\\\AppData\\\\Local\\\\Temp\\\\tmpxzh3zgjp', '_tf_random_seed': None, '_save_summary_steps': 100, '_save_checkpoints_steps': None, '_save_checkpoints_secs': 600, '_session_config': allow_soft_placement: true\n",
      "graph_options {\n",
      "  rewrite_options {\n",
      "    meta_optimizer_iterations: ONE\n",
      "  }\n",
      "}\n",
      ", '_keep_checkpoint_max': 5, '_keep_checkpoint_every_n_hours': 10000, '_log_step_count_steps': 100, '_train_distribute': None, '_device_fn': None, '_protocol': None, '_eval_distribute': None, '_experimental_distribute': None, '_experimental_max_worker_delay_secs': None, '_session_creation_timeout_secs': 7200, '_checkpoint_save_graph_def': True, '_service': None, '_cluster_spec': ClusterSpec({}), '_task_type': 'worker', '_task_id': 0, '_global_id_in_cluster': 0, '_master': '', '_evaluation_master': '', '_is_chief': True, '_num_ps_replicas': 0, '_num_worker_replicas': 1}\n"
     ]
    }
   ],
   "source": [
    "#Forming the ANN model with defined parameters\n",
    "ANN_dem_model = tf.estimator.DNNClassifier(n_classes=3,\n",
    "                                       hidden_units=[1024,512,256,32,3],\n",
    "                                       optimizer='Adam',\n",
    "                                       feature_columns=indepndnt,\n",
    "                                       dropout=0.27,\n",
    "                                       activation_fn=tf.nn.relu\n",
    "                                      )"
   ]
  },
  {
   "cell_type": "code",
   "execution_count": 47,
   "id": "bd31d560",
   "metadata": {},
   "outputs": [
    {
     "name": "stdout",
     "output_type": "stream",
     "text": [
      "INFO:tensorflow:Calling model_fn.\n",
      "INFO:tensorflow:Done calling model_fn.\n",
      "INFO:tensorflow:Create CheckpointSaverHook.\n",
      "INFO:tensorflow:Graph was finalized.\n",
      "INFO:tensorflow:Restoring parameters from C:\\Users\\joshna\\AppData\\Local\\Temp\\tmpxzh3zgjp\\model.ckpt-466\n",
      "INFO:tensorflow:Running local_init_op.\n",
      "INFO:tensorflow:Done running local_init_op.\n",
      "INFO:tensorflow:Calling checkpoint listeners before saving checkpoint 466...\n",
      "INFO:tensorflow:Saving checkpoints for 466 into C:\\Users\\joshna\\AppData\\Local\\Temp\\tmpxzh3zgjp\\model.ckpt.\n",
      "INFO:tensorflow:Calling checkpoint listeners after saving checkpoint 466...\n",
      "INFO:tensorflow:loss = 1.0089071, step = 466\n",
      "INFO:tensorflow:global_step/sec: 71.037\n",
      "INFO:tensorflow:loss = 0.9348132, step = 566 (1.413 sec)\n",
      "INFO:tensorflow:global_step/sec: 78.2553\n",
      "INFO:tensorflow:loss = 0.9602465, step = 666 (1.274 sec)\n",
      "INFO:tensorflow:Calling checkpoint listeners before saving checkpoint 699...\n",
      "INFO:tensorflow:Saving checkpoints for 699 into C:\\Users\\joshna\\AppData\\Local\\Temp\\tmpxzh3zgjp\\model.ckpt.\n",
      "INFO:tensorflow:Calling checkpoint listeners after saving checkpoint 699...\n",
      "INFO:tensorflow:Loss for final step: 0.965047.\n"
     ]
    },
    {
     "data": {
      "text/plain": [
       "<tensorflow_estimator.python.estimator.canned.dnn.DNNClassifierV2 at 0x1796f1c6130>"
      ]
     },
     "execution_count": 47,
     "metadata": {},
     "output_type": "execute_result"
    }
   ],
   "source": [
    "#Training the ANN model with the model parameters\n",
    "ANN_dem_model.train(input_fn=parms_model(100,128,True),steps=900)"
   ]
  },
  {
   "cell_type": "code",
   "execution_count": 50,
   "id": "0ac4da37",
   "metadata": {},
   "outputs": [
    {
     "name": "stdout",
     "output_type": "stream",
     "text": [
      "INFO:tensorflow:Calling model_fn.\n",
      "INFO:tensorflow:Done calling model_fn.\n",
      "INFO:tensorflow:Starting evaluation at 2023-03-03T18:35:04\n",
      "INFO:tensorflow:Graph was finalized.\n",
      "INFO:tensorflow:Restoring parameters from C:\\Users\\joshna\\AppData\\Local\\Temp\\tmpxzh3zgjp\\model.ckpt-699\n",
      "INFO:tensorflow:Running local_init_op.\n",
      "INFO:tensorflow:Done running local_init_op.\n",
      "INFO:tensorflow:Inference Time : 0.57411s\n",
      "INFO:tensorflow:Finished evaluation at 2023-03-03-18:35:05\n",
      "INFO:tensorflow:Saving dict for global step 699: accuracy = 0.53333336, average_loss = 0.96190774, global_step = 699, loss = 0.9619539\n",
      "INFO:tensorflow:Saving 'checkpoint_path' summary for global step 699: C:\\Users\\joshna\\AppData\\Local\\Temp\\tmpxzh3zgjp\\model.ckpt-699\n"
     ]
    },
    {
     "data": {
      "text/plain": [
       "{'accuracy': 0.53333336,\n",
       " 'average_loss': 0.96190774,\n",
       " 'loss': 0.9619539,\n",
       " 'global_step': 699}"
      ]
     },
     "execution_count": 50,
     "metadata": {},
     "output_type": "execute_result"
    }
   ],
   "source": [
    "#Performance check of the ANN model\n",
    "ANN_dem_model.evaluate(input_fn=valid_model(100,128,True),steps=900)"
   ]
  },
  {
   "cell_type": "code",
   "execution_count": 44,
   "id": "28ab8622",
   "metadata": {},
   "outputs": [
    {
     "name": "stdout",
     "output_type": "stream",
     "text": [
      "INFO:tensorflow:Using default config.\n",
      "WARNING:tensorflow:Using temporary folder as model directory: C:\\Users\\joshna\\AppData\\Local\\Temp\\tmpya4gc0qi\n",
      "INFO:tensorflow:Using config: {'_model_dir': 'C:\\\\Users\\\\joshna\\\\AppData\\\\Local\\\\Temp\\\\tmpya4gc0qi', '_tf_random_seed': None, '_save_summary_steps': 100, '_save_checkpoints_steps': None, '_save_checkpoints_secs': 600, '_session_config': allow_soft_placement: true\n",
      "graph_options {\n",
      "  rewrite_options {\n",
      "    meta_optimizer_iterations: ONE\n",
      "  }\n",
      "}\n",
      ", '_keep_checkpoint_max': 5, '_keep_checkpoint_every_n_hours': 10000, '_log_step_count_steps': 100, '_train_distribute': None, '_device_fn': None, '_protocol': None, '_eval_distribute': None, '_experimental_distribute': None, '_experimental_max_worker_delay_secs': None, '_session_creation_timeout_secs': 7200, '_checkpoint_save_graph_def': True, '_service': None, '_cluster_spec': ClusterSpec({}), '_task_type': 'worker', '_task_id': 0, '_global_id_in_cluster': 0, '_master': '', '_evaluation_master': '', '_is_chief': True, '_num_ps_replicas': 0, '_num_worker_replicas': 1}\n"
     ]
    }
   ],
   "source": [
    "#Forming the ANN model with the features of the Linear Classifier model\n",
    "ANN_linear_dem_model = tf.estimator.DNNLinearCombinedClassifier(n_classes=3,dnn_dropout=0.27,dnn_optimizer='Adam',dnn_feature_columns=indepndnt,dnn_hidden_units=[1024,512,256,32,3],linear_feature_columns=indepndnt,dnn_activation_fn='relu')"
   ]
  },
  {
   "cell_type": "code",
   "execution_count": 45,
   "id": "c6e920b9",
   "metadata": {},
   "outputs": [
    {
     "name": "stdout",
     "output_type": "stream",
     "text": [
      "INFO:tensorflow:Calling model_fn.\n"
     ]
    },
    {
     "name": "stderr",
     "output_type": "stream",
     "text": [
      "C:\\Users\\joshna\\anaconda3\\lib\\site-packages\\tensorflow\\python\\keras\\engine\\base_layer_v1.py:1700: UserWarning: `layer.add_variable` is deprecated and will be removed in a future version. Please use `layer.add_weight` method instead.\n",
      "  warnings.warn('`layer.add_variable` is deprecated and '\n"
     ]
    },
    {
     "name": "stdout",
     "output_type": "stream",
     "text": [
      "WARNING:tensorflow:From C:\\Users\\joshna\\anaconda3\\lib\\site-packages\\tensorflow\\python\\keras\\optimizer_v2\\ftrl.py:148: calling Constant.__init__ (from tensorflow.python.ops.init_ops) with dtype is deprecated and will be removed in a future version.\n",
      "Instructions for updating:\n",
      "Call initializer instance with the dtype argument instead of passing it to the constructor\n",
      "INFO:tensorflow:Done calling model_fn.\n",
      "INFO:tensorflow:Create CheckpointSaverHook.\n",
      "INFO:tensorflow:Graph was finalized.\n",
      "INFO:tensorflow:Running local_init_op.\n",
      "INFO:tensorflow:Done running local_init_op.\n",
      "INFO:tensorflow:Calling checkpoint listeners before saving checkpoint 0...\n",
      "INFO:tensorflow:Saving checkpoints for 0 into C:\\Users\\joshna\\AppData\\Local\\Temp\\tmpya4gc0qi\\model.ckpt.\n",
      "INFO:tensorflow:Calling checkpoint listeners after saving checkpoint 0...\n",
      "INFO:tensorflow:loss = 70.44851, step = 0\n",
      "INFO:tensorflow:global_step/sec: 69.3832\n",
      "INFO:tensorflow:loss = 0.89021534, step = 100 (1.441 sec)\n",
      "INFO:tensorflow:global_step/sec: 79.2563\n",
      "INFO:tensorflow:loss = 0.82194686, step = 200 (1.264 sec)\n",
      "INFO:tensorflow:Calling checkpoint listeners before saving checkpoint 233...\n",
      "INFO:tensorflow:Saving checkpoints for 233 into C:\\Users\\joshna\\AppData\\Local\\Temp\\tmpya4gc0qi\\model.ckpt.\n",
      "INFO:tensorflow:Calling checkpoint listeners after saving checkpoint 233...\n",
      "INFO:tensorflow:Loss for final step: 0.78890693.\n"
     ]
    },
    {
     "data": {
      "text/plain": [
       "<tensorflow_estimator.python.estimator.canned.dnn_linear_combined.DNNLinearCombinedClassifierV2 at 0x17971a9ff40>"
      ]
     },
     "execution_count": 45,
     "metadata": {},
     "output_type": "execute_result"
    }
   ],
   "source": [
    "#Training the ANN model with the features of the Linear Classifier model\n",
    "ANN_linear_dem_model.train(input_fn=parms_model(100,128,True),steps=900)"
   ]
  },
  {
   "cell_type": "code",
   "execution_count": 46,
   "id": "ca06c126",
   "metadata": {},
   "outputs": [
    {
     "name": "stdout",
     "output_type": "stream",
     "text": [
      "INFO:tensorflow:Calling model_fn.\n"
     ]
    },
    {
     "name": "stderr",
     "output_type": "stream",
     "text": [
      "C:\\Users\\joshna\\anaconda3\\lib\\site-packages\\tensorflow\\python\\keras\\engine\\base_layer_v1.py:1700: UserWarning: `layer.add_variable` is deprecated and will be removed in a future version. Please use `layer.add_weight` method instead.\n",
      "  warnings.warn('`layer.add_variable` is deprecated and '\n"
     ]
    },
    {
     "name": "stdout",
     "output_type": "stream",
     "text": [
      "INFO:tensorflow:Done calling model_fn.\n",
      "INFO:tensorflow:Starting evaluation at 2023-03-03T18:04:40\n",
      "INFO:tensorflow:Graph was finalized.\n",
      "INFO:tensorflow:Restoring parameters from C:\\Users\\joshna\\AppData\\Local\\Temp\\tmpya4gc0qi\\model.ckpt-233\n",
      "INFO:tensorflow:Running local_init_op.\n",
      "INFO:tensorflow:Done running local_init_op.\n",
      "INFO:tensorflow:Inference Time : 0.71251s\n",
      "INFO:tensorflow:Finished evaluation at 2023-03-03-18:04:40\n",
      "INFO:tensorflow:Saving dict for global step 233: accuracy = 0.68, average_loss = 0.8763111, global_step = 233, loss = 0.8764983\n",
      "INFO:tensorflow:Saving 'checkpoint_path' summary for global step 233: C:\\Users\\joshna\\AppData\\Local\\Temp\\tmpya4gc0qi\\model.ckpt-233\n"
     ]
    },
    {
     "data": {
      "text/plain": [
       "{'accuracy': 0.68,\n",
       " 'average_loss': 0.8763111,\n",
       " 'loss': 0.8764983,\n",
       " 'global_step': 233}"
      ]
     },
     "execution_count": 46,
     "metadata": {},
     "output_type": "execute_result"
    }
   ],
   "source": [
    "#Performance check of the ANN model with the features of the Linear Classifier model\n",
    "ANN_linear_dem_model.evaluate(input_fn=valid_model(100,128,True),steps=900)"
   ]
  },
  {
   "cell_type": "code",
   "execution_count": null,
   "id": "6368de01",
   "metadata": {},
   "outputs": [],
   "source": []
  }
 ],
 "metadata": {
  "kernelspec": {
   "display_name": "Python 3 (ipykernel)",
   "language": "python",
   "name": "python3"
  },
  "language_info": {
   "codemirror_mode": {
    "name": "ipython",
    "version": 3
   },
   "file_extension": ".py",
   "mimetype": "text/x-python",
   "name": "python",
   "nbconvert_exporter": "python",
   "pygments_lexer": "ipython3",
   "version": "3.9.7"
  }
 },
 "nbformat": 4,
 "nbformat_minor": 5
}
